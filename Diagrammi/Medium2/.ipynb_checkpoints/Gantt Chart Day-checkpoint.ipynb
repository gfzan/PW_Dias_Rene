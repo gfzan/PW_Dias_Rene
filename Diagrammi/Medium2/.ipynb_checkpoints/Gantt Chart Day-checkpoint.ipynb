{
 "cells": [
  {
   "cell_type": "markdown",
   "metadata": {},
   "source": [
    "### Import Libraries"
   ]
  },
  {
   "cell_type": "code",
   "execution_count": 10,
   "metadata": {
    "ExecuteTime": {
     "end_time": "2021-09-13T17:28:49.316784Z",
     "start_time": "2021-09-13T17:28:49.300781Z"
    }
   },
   "outputs": [],
   "source": [
    "import pandas as pd\n",
    "import matplotlib.pyplot as plt\n",
    "from datetime import timedelta\n",
    "import numpy as np\n",
    "\n",
    "import warnings\n",
    "warnings.filterwarnings('ignore')\n",
    "\n",
    "plt.style.use('seaborn-darkgrid')"
   ]
  },
  {
   "cell_type": "markdown",
   "metadata": {},
   "source": [
    "### Get Data"
   ]
  },
  {
   "cell_type": "code",
   "execution_count": 2,
   "metadata": {
    "ExecuteTime": {
     "end_time": "2021-09-13T17:24:48.829609Z",
     "start_time": "2021-09-13T17:24:48.757722Z"
    }
   },
   "outputs": [
    {
     "data": {
      "text/html": [
       "<div>\n",
       "<style scoped>\n",
       "    .dataframe tbody tr th:only-of-type {\n",
       "        vertical-align: middle;\n",
       "    }\n",
       "\n",
       "    .dataframe tbody tr th {\n",
       "        vertical-align: top;\n",
       "    }\n",
       "\n",
       "    .dataframe thead th {\n",
       "        text-align: right;\n",
       "    }\n",
       "</style>\n",
       "<table border=\"1\" class=\"dataframe\">\n",
       "  <thead>\n",
       "    <tr style=\"text-align: right;\">\n",
       "      <th></th>\n",
       "      <th>Task</th>\n",
       "      <th>Day</th>\n",
       "      <th>start</th>\n",
       "      <th>end</th>\n",
       "    </tr>\n",
       "  </thead>\n",
       "  <tbody>\n",
       "    <tr>\n",
       "      <th>0</th>\n",
       "      <td>Task A</td>\n",
       "      <td>12-09-2021</td>\n",
       "      <td>09:00</td>\n",
       "      <td>09:10</td>\n",
       "    </tr>\n",
       "    <tr>\n",
       "      <th>1</th>\n",
       "      <td>Task B</td>\n",
       "      <td>12-09-2021</td>\n",
       "      <td>10:30</td>\n",
       "      <td>12:30</td>\n",
       "    </tr>\n",
       "    <tr>\n",
       "      <th>2</th>\n",
       "      <td>Task C</td>\n",
       "      <td>12-09-2021</td>\n",
       "      <td>13:15</td>\n",
       "      <td>15:30</td>\n",
       "    </tr>\n",
       "    <tr>\n",
       "      <th>3</th>\n",
       "      <td>Task E</td>\n",
       "      <td>12-09-2021</td>\n",
       "      <td>16:45</td>\n",
       "      <td>17:00</td>\n",
       "    </tr>\n",
       "    <tr>\n",
       "      <th>4</th>\n",
       "      <td>SoD</td>\n",
       "      <td>12-09-2021</td>\n",
       "      <td>09:00</td>\n",
       "      <td>NaN</td>\n",
       "    </tr>\n",
       "    <tr>\n",
       "      <th>5</th>\n",
       "      <td>EoD</td>\n",
       "      <td>12-09-2021</td>\n",
       "      <td>17:00</td>\n",
       "      <td>NaN</td>\n",
       "    </tr>\n",
       "  </tbody>\n",
       "</table>\n",
       "</div>"
      ],
      "text/plain": [
       "     Task         Day  start    end\n",
       "0  Task A  12-09-2021  09:00  09:10\n",
       "1  Task B  12-09-2021  10:30  12:30\n",
       "2  Task C  12-09-2021  13:15  15:30\n",
       "3  Task E  12-09-2021  16:45  17:00\n",
       "4     SoD  12-09-2021  09:00    NaN\n",
       "5     EoD  12-09-2021  17:00    NaN"
      ]
     },
     "execution_count": 2,
     "metadata": {},
     "output_type": "execute_result"
    }
   ],
   "source": [
    "df=pd.read_csv('sch_day.csv')\n",
    "df"
   ]
  },
  {
   "cell_type": "markdown",
   "metadata": {},
   "source": [
    "### Start and End of Day"
   ]
  },
  {
   "cell_type": "code",
   "execution_count": 3,
   "metadata": {
    "ExecuteTime": {
     "end_time": "2021-09-13T17:25:30.660299Z",
     "start_time": "2021-09-13T17:25:30.628478Z"
    }
   },
   "outputs": [
    {
     "name": "stdout",
     "output_type": "stream",
     "text": [
      "SoD : 2021-12-09 09:00:00\n",
      "EoD : 2021-12-09 17:00:00\n"
     ]
    }
   ],
   "source": [
    "# Get SoD and EOD\n",
    "SoD=df[df.Task=='SoD'].Day.values[0]+' '+df[df.Task=='SoD'].start.values[0]\n",
    "SoD=pd.to_datetime(SoD)\n",
    "EoD=df[df.Task=='EoD'].Day.values[0]+' '+df[df.Task=='EoD'].start.values[0]\n",
    "EoD=pd.to_datetime(EoD)\n",
    "print('SoD :', SoD)\n",
    "print('EoD :', EoD)"
   ]
  },
  {
   "cell_type": "markdown",
   "metadata": {},
   "source": [
    "### Day Duration in Minutes"
   ]
  },
  {
   "cell_type": "code",
   "execution_count": 5,
   "metadata": {
    "ExecuteTime": {
     "end_time": "2021-09-13T17:26:05.195833Z",
     "start_time": "2021-09-13T17:26:05.175300Z"
    }
   },
   "outputs": [
    {
     "data": {
      "text/plain": [
       "480"
      ]
     },
     "execution_count": 5,
     "metadata": {},
     "output_type": "execute_result"
    }
   ],
   "source": [
    "day_duration=EoD-SoD\n",
    "#day duration in minutes\n",
    "day_duration=int(day_duration.seconds/60)\n",
    "day_duration"
   ]
  },
  {
   "cell_type": "markdown",
   "metadata": {},
   "source": [
    "### Remove SoD and EoD from Tasks df"
   ]
  },
  {
   "cell_type": "code",
   "execution_count": 6,
   "metadata": {
    "ExecuteTime": {
     "end_time": "2021-09-13T17:26:54.961923Z",
     "start_time": "2021-09-13T17:26:54.928431Z"
    }
   },
   "outputs": [
    {
     "data": {
      "text/html": [
       "<div>\n",
       "<style scoped>\n",
       "    .dataframe tbody tr th:only-of-type {\n",
       "        vertical-align: middle;\n",
       "    }\n",
       "\n",
       "    .dataframe tbody tr th {\n",
       "        vertical-align: top;\n",
       "    }\n",
       "\n",
       "    .dataframe thead th {\n",
       "        text-align: right;\n",
       "    }\n",
       "</style>\n",
       "<table border=\"1\" class=\"dataframe\">\n",
       "  <thead>\n",
       "    <tr style=\"text-align: right;\">\n",
       "      <th></th>\n",
       "      <th>Task</th>\n",
       "      <th>Day</th>\n",
       "      <th>start</th>\n",
       "      <th>end</th>\n",
       "    </tr>\n",
       "  </thead>\n",
       "  <tbody>\n",
       "    <tr>\n",
       "      <th>0</th>\n",
       "      <td>Task A</td>\n",
       "      <td>12-09-2021</td>\n",
       "      <td>09:00</td>\n",
       "      <td>09:10</td>\n",
       "    </tr>\n",
       "    <tr>\n",
       "      <th>1</th>\n",
       "      <td>Task B</td>\n",
       "      <td>12-09-2021</td>\n",
       "      <td>10:30</td>\n",
       "      <td>12:30</td>\n",
       "    </tr>\n",
       "    <tr>\n",
       "      <th>2</th>\n",
       "      <td>Task C</td>\n",
       "      <td>12-09-2021</td>\n",
       "      <td>13:15</td>\n",
       "      <td>15:30</td>\n",
       "    </tr>\n",
       "    <tr>\n",
       "      <th>3</th>\n",
       "      <td>Task E</td>\n",
       "      <td>12-09-2021</td>\n",
       "      <td>16:45</td>\n",
       "      <td>17:00</td>\n",
       "    </tr>\n",
       "  </tbody>\n",
       "</table>\n",
       "</div>"
      ],
      "text/plain": [
       "     Task         Day  start    end\n",
       "0  Task A  12-09-2021  09:00  09:10\n",
       "1  Task B  12-09-2021  10:30  12:30\n",
       "2  Task C  12-09-2021  13:15  15:30\n",
       "3  Task E  12-09-2021  16:45  17:00"
      ]
     },
     "execution_count": 6,
     "metadata": {},
     "output_type": "execute_result"
    }
   ],
   "source": [
    "df=df[df.end.isna()==False]\n",
    "df"
   ]
  },
  {
   "cell_type": "markdown",
   "metadata": {},
   "source": [
    "### Start and End of Each task to datetime format"
   ]
  },
  {
   "cell_type": "code",
   "execution_count": 7,
   "metadata": {
    "ExecuteTime": {
     "end_time": "2021-09-13T17:27:43.148164Z",
     "start_time": "2021-09-13T17:27:42.795871Z"
    }
   },
   "outputs": [
    {
     "name": "stderr",
     "output_type": "stream",
     "text": [
      "C:\\Users\\ABCD\\AppData\\Local\\Continuum\\anaconda3\\lib\\site-packages\\pandas\\core\\generic.py:5096: SettingWithCopyWarning: \n",
      "A value is trying to be set on a copy of a slice from a DataFrame.\n",
      "Try using .loc[row_indexer,col_indexer] = value instead\n",
      "\n",
      "See the caveats in the documentation: http://pandas.pydata.org/pandas-docs/stable/indexing.html#indexing-view-versus-copy\n",
      "  self[name] = value\n"
     ]
    },
    {
     "data": {
      "text/html": [
       "<div>\n",
       "<style scoped>\n",
       "    .dataframe tbody tr th:only-of-type {\n",
       "        vertical-align: middle;\n",
       "    }\n",
       "\n",
       "    .dataframe tbody tr th {\n",
       "        vertical-align: top;\n",
       "    }\n",
       "\n",
       "    .dataframe thead th {\n",
       "        text-align: right;\n",
       "    }\n",
       "</style>\n",
       "<table border=\"1\" class=\"dataframe\">\n",
       "  <thead>\n",
       "    <tr style=\"text-align: right;\">\n",
       "      <th></th>\n",
       "      <th>Task</th>\n",
       "      <th>Day</th>\n",
       "      <th>start</th>\n",
       "      <th>end</th>\n",
       "    </tr>\n",
       "  </thead>\n",
       "  <tbody>\n",
       "    <tr>\n",
       "      <th>0</th>\n",
       "      <td>Task A</td>\n",
       "      <td>12-09-2021</td>\n",
       "      <td>2021-12-09 09:00:00</td>\n",
       "      <td>2021-12-09 09:10:00</td>\n",
       "    </tr>\n",
       "    <tr>\n",
       "      <th>1</th>\n",
       "      <td>Task B</td>\n",
       "      <td>12-09-2021</td>\n",
       "      <td>2021-12-09 10:30:00</td>\n",
       "      <td>2021-12-09 12:30:00</td>\n",
       "    </tr>\n",
       "    <tr>\n",
       "      <th>2</th>\n",
       "      <td>Task C</td>\n",
       "      <td>12-09-2021</td>\n",
       "      <td>2021-12-09 13:15:00</td>\n",
       "      <td>2021-12-09 15:30:00</td>\n",
       "    </tr>\n",
       "    <tr>\n",
       "      <th>3</th>\n",
       "      <td>Task E</td>\n",
       "      <td>12-09-2021</td>\n",
       "      <td>2021-12-09 16:45:00</td>\n",
       "      <td>2021-12-09 17:00:00</td>\n",
       "    </tr>\n",
       "  </tbody>\n",
       "</table>\n",
       "</div>"
      ],
      "text/plain": [
       "     Task         Day               start                 end\n",
       "0  Task A  12-09-2021 2021-12-09 09:00:00 2021-12-09 09:10:00\n",
       "1  Task B  12-09-2021 2021-12-09 10:30:00 2021-12-09 12:30:00\n",
       "2  Task C  12-09-2021 2021-12-09 13:15:00 2021-12-09 15:30:00\n",
       "3  Task E  12-09-2021 2021-12-09 16:45:00 2021-12-09 17:00:00"
      ]
     },
     "execution_count": 7,
     "metadata": {},
     "output_type": "execute_result"
    }
   ],
   "source": [
    "df.start=df.Day+' '+df.start\n",
    "df.start=pd.to_datetime(df.start)\n",
    "df.end=df.Day+' '+df.end\n",
    "df.end=pd.to_datetime(df.end)\n",
    "df"
   ]
  },
  {
   "cell_type": "markdown",
   "metadata": {},
   "source": [
    "### Task Duration in Minutes"
   ]
  },
  {
   "cell_type": "code",
   "execution_count": 8,
   "metadata": {
    "ExecuteTime": {
     "end_time": "2021-09-13T17:28:13.310075Z",
     "start_time": "2021-09-13T17:28:13.114880Z"
    }
   },
   "outputs": [
    {
     "name": "stderr",
     "output_type": "stream",
     "text": [
      "C:\\Users\\ABCD\\AppData\\Local\\Continuum\\anaconda3\\lib\\site-packages\\ipykernel_launcher.py:1: SettingWithCopyWarning: \n",
      "A value is trying to be set on a copy of a slice from a DataFrame.\n",
      "Try using .loc[row_indexer,col_indexer] = value instead\n",
      "\n",
      "See the caveats in the documentation: http://pandas.pydata.org/pandas-docs/stable/indexing.html#indexing-view-versus-copy\n",
      "  \"\"\"Entry point for launching an IPython kernel.\n",
      "C:\\Users\\ABCD\\AppData\\Local\\Continuum\\anaconda3\\lib\\site-packages\\pandas\\core\\generic.py:5096: SettingWithCopyWarning: \n",
      "A value is trying to be set on a copy of a slice from a DataFrame.\n",
      "Try using .loc[row_indexer,col_indexer] = value instead\n",
      "\n",
      "See the caveats in the documentation: http://pandas.pydata.org/pandas-docs/stable/indexing.html#indexing-view-versus-copy\n",
      "  self[name] = value\n"
     ]
    },
    {
     "data": {
      "text/html": [
       "<div>\n",
       "<style scoped>\n",
       "    .dataframe tbody tr th:only-of-type {\n",
       "        vertical-align: middle;\n",
       "    }\n",
       "\n",
       "    .dataframe tbody tr th {\n",
       "        vertical-align: top;\n",
       "    }\n",
       "\n",
       "    .dataframe thead th {\n",
       "        text-align: right;\n",
       "    }\n",
       "</style>\n",
       "<table border=\"1\" class=\"dataframe\">\n",
       "  <thead>\n",
       "    <tr style=\"text-align: right;\">\n",
       "      <th></th>\n",
       "      <th>Task</th>\n",
       "      <th>Day</th>\n",
       "      <th>start</th>\n",
       "      <th>end</th>\n",
       "      <th>duration</th>\n",
       "    </tr>\n",
       "  </thead>\n",
       "  <tbody>\n",
       "    <tr>\n",
       "      <th>0</th>\n",
       "      <td>Task A</td>\n",
       "      <td>12-09-2021</td>\n",
       "      <td>2021-12-09 09:00:00</td>\n",
       "      <td>2021-12-09 09:10:00</td>\n",
       "      <td>10</td>\n",
       "    </tr>\n",
       "    <tr>\n",
       "      <th>1</th>\n",
       "      <td>Task B</td>\n",
       "      <td>12-09-2021</td>\n",
       "      <td>2021-12-09 10:30:00</td>\n",
       "      <td>2021-12-09 12:30:00</td>\n",
       "      <td>120</td>\n",
       "    </tr>\n",
       "    <tr>\n",
       "      <th>2</th>\n",
       "      <td>Task C</td>\n",
       "      <td>12-09-2021</td>\n",
       "      <td>2021-12-09 13:15:00</td>\n",
       "      <td>2021-12-09 15:30:00</td>\n",
       "      <td>135</td>\n",
       "    </tr>\n",
       "    <tr>\n",
       "      <th>3</th>\n",
       "      <td>Task E</td>\n",
       "      <td>12-09-2021</td>\n",
       "      <td>2021-12-09 16:45:00</td>\n",
       "      <td>2021-12-09 17:00:00</td>\n",
       "      <td>15</td>\n",
       "    </tr>\n",
       "  </tbody>\n",
       "</table>\n",
       "</div>"
      ],
      "text/plain": [
       "     Task         Day               start                 end  duration\n",
       "0  Task A  12-09-2021 2021-12-09 09:00:00 2021-12-09 09:10:00        10\n",
       "1  Task B  12-09-2021 2021-12-09 10:30:00 2021-12-09 12:30:00       120\n",
       "2  Task C  12-09-2021 2021-12-09 13:15:00 2021-12-09 15:30:00       135\n",
       "3  Task E  12-09-2021 2021-12-09 16:45:00 2021-12-09 17:00:00        15"
      ]
     },
     "execution_count": 8,
     "metadata": {},
     "output_type": "execute_result"
    }
   ],
   "source": [
    "df['duration']=df.end-df.start\n",
    "df.duration=df.duration.apply(lambda x:int(x.seconds/60))\n",
    "df"
   ]
  },
  {
   "cell_type": "markdown",
   "metadata": {},
   "source": [
    "### Relative Start Time "
   ]
  },
  {
   "cell_type": "code",
   "execution_count": 11,
   "metadata": {
    "ExecuteTime": {
     "end_time": "2021-09-13T17:29:27.750286Z",
     "start_time": "2021-09-13T17:29:27.569037Z"
    }
   },
   "outputs": [
    {
     "data": {
      "text/html": [
       "<div>\n",
       "<style scoped>\n",
       "    .dataframe tbody tr th:only-of-type {\n",
       "        vertical-align: middle;\n",
       "    }\n",
       "\n",
       "    .dataframe tbody tr th {\n",
       "        vertical-align: top;\n",
       "    }\n",
       "\n",
       "    .dataframe thead th {\n",
       "        text-align: right;\n",
       "    }\n",
       "</style>\n",
       "<table border=\"1\" class=\"dataframe\">\n",
       "  <thead>\n",
       "    <tr style=\"text-align: right;\">\n",
       "      <th></th>\n",
       "      <th>Task</th>\n",
       "      <th>Day</th>\n",
       "      <th>start</th>\n",
       "      <th>end</th>\n",
       "      <th>duration</th>\n",
       "      <th>rel_start</th>\n",
       "    </tr>\n",
       "  </thead>\n",
       "  <tbody>\n",
       "    <tr>\n",
       "      <th>0</th>\n",
       "      <td>Task A</td>\n",
       "      <td>12-09-2021</td>\n",
       "      <td>2021-12-09 09:00:00</td>\n",
       "      <td>2021-12-09 09:10:00</td>\n",
       "      <td>10</td>\n",
       "      <td>0</td>\n",
       "    </tr>\n",
       "    <tr>\n",
       "      <th>1</th>\n",
       "      <td>Task B</td>\n",
       "      <td>12-09-2021</td>\n",
       "      <td>2021-12-09 10:30:00</td>\n",
       "      <td>2021-12-09 12:30:00</td>\n",
       "      <td>120</td>\n",
       "      <td>90</td>\n",
       "    </tr>\n",
       "    <tr>\n",
       "      <th>2</th>\n",
       "      <td>Task C</td>\n",
       "      <td>12-09-2021</td>\n",
       "      <td>2021-12-09 13:15:00</td>\n",
       "      <td>2021-12-09 15:30:00</td>\n",
       "      <td>135</td>\n",
       "      <td>255</td>\n",
       "    </tr>\n",
       "    <tr>\n",
       "      <th>3</th>\n",
       "      <td>Task E</td>\n",
       "      <td>12-09-2021</td>\n",
       "      <td>2021-12-09 16:45:00</td>\n",
       "      <td>2021-12-09 17:00:00</td>\n",
       "      <td>15</td>\n",
       "      <td>465</td>\n",
       "    </tr>\n",
       "  </tbody>\n",
       "</table>\n",
       "</div>"
      ],
      "text/plain": [
       "     Task         Day               start                 end  duration  \\\n",
       "0  Task A  12-09-2021 2021-12-09 09:00:00 2021-12-09 09:10:00        10   \n",
       "1  Task B  12-09-2021 2021-12-09 10:30:00 2021-12-09 12:30:00       120   \n",
       "2  Task C  12-09-2021 2021-12-09 13:15:00 2021-12-09 15:30:00       135   \n",
       "3  Task E  12-09-2021 2021-12-09 16:45:00 2021-12-09 17:00:00        15   \n",
       "\n",
       "   rel_start  \n",
       "0          0  \n",
       "1         90  \n",
       "2        255  \n",
       "3        465  "
      ]
     },
     "execution_count": 11,
     "metadata": {},
     "output_type": "execute_result"
    }
   ],
   "source": [
    "df['rel_start']=df.start.apply(lambda x:x-SoD)\n",
    "df.rel_start=df.rel_start.apply(lambda x:int(x.seconds/60))\n",
    "df"
   ]
  },
  {
   "cell_type": "markdown",
   "metadata": {},
   "source": [
    "### Plot Gantt Chart"
   ]
  },
  {
   "cell_type": "code",
   "execution_count": 14,
   "metadata": {
    "ExecuteTime": {
     "end_time": "2021-09-13T17:30:23.154338Z",
     "start_time": "2021-09-13T17:30:23.131792Z"
    }
   },
   "outputs": [],
   "source": [
    "yticks=[x for x in range(len(df.Task))]"
   ]
  },
  {
   "cell_type": "code",
   "execution_count": 15,
   "metadata": {
    "ExecuteTime": {
     "end_time": "2021-09-13T17:30:23.748391Z",
     "start_time": "2021-09-13T17:30:23.577177Z"
    }
   },
   "outputs": [
    {
     "data": {
      "image/png": "[encoded data removed]",
      "text/plain": [
       "<Figure size 720x432 with 1 Axes>"
      ]
     },
     "metadata": {},
     "output_type": "display_data"
    }
   ],
   "source": [
    "plt.figure(figsize=(10,6))\n",
    "\n",
    "plt.barh(yticks, left=df.rel_start, width=df.duration)\n",
    "\n",
    "plt.ylim(max(yticks)+1, min(yticks)-1)\n",
    "plt.yticks(yticks, df.Task)\n",
    "\n",
    "plt.xlim(0,day_duration)\n",
    "plt.grid(axis='x')\n",
    "plt.show()"
   ]
  },
  {
   "cell_type": "markdown",
   "metadata": {},
   "source": [
    "## Create x-labels"
   ]
  },
  {
   "cell_type": "markdown",
   "metadata": {},
   "source": [
    "### Function to Convert hours to am/pm"
   ]
  },
  {
   "cell_type": "code",
   "execution_count": 18,
   "metadata": {
    "ExecuteTime": {
     "end_time": "2021-09-13T17:32:02.915543Z",
     "start_time": "2021-09-13T17:32:02.899907Z"
    }
   },
   "outputs": [],
   "source": [
    "def hour_formatter(n):\n",
    "    if n>12:\n",
    "        a=n-12\n",
    "    else:\n",
    "        a=n\n",
    "    if n>11:\n",
    "        return f'{a:02} pm'\n",
    "    else:\n",
    "        return f'{a:02} am'"
   ]
  },
  {
   "cell_type": "markdown",
   "metadata": {},
   "source": [
    "### Dictionary for x ticks {value:label}"
   ]
  },
  {
   "cell_type": "code",
   "execution_count": 19,
   "metadata": {
    "ExecuteTime": {
     "end_time": "2021-09-13T17:32:36.184314Z",
     "start_time": "2021-09-13T17:32:36.164931Z"
    }
   },
   "outputs": [
    {
     "data": {
      "text/plain": [
       "{0: '09 am',\n",
       " 60: '10 am',\n",
       " 120: '11 am',\n",
       " 180: '12 pm',\n",
       " 240: '01 pm',\n",
       " 300: '02 pm',\n",
       " 360: '03 pm',\n",
       " 420: '04 pm',\n",
       " 480: '05 pm'}"
      ]
     },
     "execution_count": 19,
     "metadata": {},
     "output_type": "execute_result"
    }
   ],
   "source": [
    "x_ticks={}\n",
    "a=9\n",
    "for i in range(int(day_duration/60)+1):\n",
    "    t=hour_formatter(a+i)\n",
    "    x_ticks.update({i*60:t})\n",
    "x_ticks"
   ]
  },
  {
   "cell_type": "markdown",
   "metadata": {},
   "source": [
    "### Plot "
   ]
  },
  {
   "cell_type": "code",
   "execution_count": 20,
   "metadata": {
    "ExecuteTime": {
     "end_time": "2021-09-13T17:33:18.130903Z",
     "start_time": "2021-09-13T17:33:17.930574Z"
    }
   },
   "outputs": [
    {
     "data": {
      "image/png": "[encoded data removed]",
      "text/plain": [
       "<Figure size 720x432 with 1 Axes>"
      ]
     },
     "metadata": {},
     "output_type": "display_data"
    }
   ],
   "source": [
    "plt.figure(figsize=(10,6))\n",
    "\n",
    "plt.barh(yticks, left=df.rel_start, width=df.duration)\n",
    "\n",
    "plt.ylim(max(yticks)+1, min(yticks)-1)\n",
    "plt.yticks(yticks, df.Task)\n",
    "\n",
    "plt.xlim(0,day_duration)\n",
    "plt.xticks(list(x_ticks.keys()), labels=list(x_ticks.values()))\n",
    "plt.xticks()\n",
    "plt.grid(axis='x')\n",
    "plt.show()"
   ]
  },
  {
   "cell_type": "code",
   "execution_count": null,
   "metadata": {},
   "outputs": [],
   "source": []
  }
 ],
 "metadata": {
  "kernelspec": {
   "display_name": "Python 3",
   "language": "python",
   "name": "python3"
  },
  "language_info": {
   "codemirror_mode": {
    "name": "ipython",
    "version": 3
   },
   "file_extension": ".py",
   "mimetype": "text/x-python",
   "name": "python",
   "nbconvert_exporter": "python",
   "pygments_lexer": "ipython3",
   "version": "3.7.4"
  }
 },
 "nbformat": 4,
 "nbformat_minor": 2
}
