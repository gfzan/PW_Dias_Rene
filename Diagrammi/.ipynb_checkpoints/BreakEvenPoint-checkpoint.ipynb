{
 "cells": [
  {
   "cell_type": "code",
   "execution_count": 1,
   "id": "514be148-8c0b-449c-a3e7-0871b54d1c58",
   "metadata": {},
   "outputs": [],
   "source": [
    "import pandas as pd\n",
    "import numpy as np"
   ]
  },
  {
   "cell_type": "code",
   "execution_count": 2,
   "id": "23b645fa-a52b-48fa-860d-eb8ebd62de91",
   "metadata": {},
   "outputs": [
    {
     "data": {
      "text/html": [
       "<div>\n",
       "<style scoped>\n",
       "    .dataframe tbody tr th:only-of-type {\n",
       "        vertical-align: middle;\n",
       "    }\n",
       "\n",
       "    .dataframe tbody tr th {\n",
       "        vertical-align: top;\n",
       "    }\n",
       "\n",
       "    .dataframe thead th {\n",
       "        text-align: right;\n",
       "    }\n",
       "</style>\n",
       "<table border=\"1\" class=\"dataframe\">\n",
       "  <thead>\n",
       "    <tr style=\"text-align: right;\">\n",
       "      <th></th>\n",
       "      <th>name</th>\n",
       "      <th>type</th>\n",
       "      <th>€</th>\n",
       "    </tr>\n",
       "  </thead>\n",
       "  <tbody>\n",
       "    <tr>\n",
       "      <th>0</th>\n",
       "      <td>Yearly rent</td>\n",
       "      <td>fixed cost</td>\n",
       "      <td>7500.00</td>\n",
       "    </tr>\n",
       "    <tr>\n",
       "      <th>1</th>\n",
       "      <td>Cooking Equipment</td>\n",
       "      <td>fixed cost</td>\n",
       "      <td>2500.00</td>\n",
       "    </tr>\n",
       "    <tr>\n",
       "      <th>2</th>\n",
       "      <td>Utility Bills</td>\n",
       "      <td>fixed cost</td>\n",
       "      <td>1200.00</td>\n",
       "    </tr>\n",
       "    <tr>\n",
       "      <th>3</th>\n",
       "      <td>Website setup, hosting and maintenance</td>\n",
       "      <td>fixed cost</td>\n",
       "      <td>1400.00</td>\n",
       "    </tr>\n",
       "    <tr>\n",
       "      <th>4</th>\n",
       "      <td>Ingredients</td>\n",
       "      <td>variable cost</td>\n",
       "      <td>3.50</td>\n",
       "    </tr>\n",
       "    <tr>\n",
       "      <th>5</th>\n",
       "      <td>Packaging</td>\n",
       "      <td>variable cost</td>\n",
       "      <td>0.75</td>\n",
       "    </tr>\n",
       "    <tr>\n",
       "      <th>6</th>\n",
       "      <td>Delivery Fees</td>\n",
       "      <td>variable cost</td>\n",
       "      <td>3.00</td>\n",
       "    </tr>\n",
       "  </tbody>\n",
       "</table>\n",
       "</div>"
      ],
      "text/plain": [
       "                                     name           type        €\n",
       "0                             Yearly rent     fixed cost  7500.00\n",
       "1                       Cooking Equipment     fixed cost  2500.00\n",
       "2                           Utility Bills     fixed cost  1200.00\n",
       "3  Website setup, hosting and maintenance     fixed cost  1400.00\n",
       "4                             Ingredients  variable cost     3.50\n",
       "5                               Packaging  variable cost     0.75\n",
       "6                           Delivery Fees  variable cost     3.00"
      ]
     },
     "execution_count": 2,
     "metadata": {},
     "output_type": "execute_result"
    }
   ],
   "source": [
    "df = pd.read_csv(\"costs.txt\", sep=\";\", header=None, names=[\"name\", \"type\", '€'])\n",
    "df['€'].astype('float')\n",
    "\n",
    "averageServicePrice = 16\n",
    "\n",
    "df"
   ]
  },
  {
   "cell_type": "code",
   "execution_count": 3,
   "id": "d9403a76-aad6-4240-bbe2-0d9faf220ba0",
   "metadata": {},
   "outputs": [
    {
     "data": {
      "text/plain": [
       "type\n",
       "fixed cost       12600.00\n",
       "variable cost        7.25\n",
       "Name: €, dtype: float64"
      ]
     },
     "execution_count": 3,
     "metadata": {},
     "output_type": "execute_result"
    }
   ],
   "source": [
    "costGrouped = df.groupby(['type'])['€'].sum()\n",
    "costGrouped"
   ]
  },
  {
   "cell_type": "code",
   "execution_count": 4,
   "id": "010f3018-b05d-4092-b895-ccf5a1f91cc7",
   "metadata": {},
   "outputs": [],
   "source": [
    "totalCosts = np.array([])\n",
    "revenue = np.array([])\n",
    "for i in range(50):\n",
    "    totalCosts = np.append(totalCosts, costGrouped['fixed cost'] + costGrouped['variable cost'] * i * 100)\n",
    "    revenue = np.append(revenue, averageServicePrice * i * 100)"
   ]
  },
  {
   "cell_type": "raw",
   "id": "7198a5dd-e74b-4cfa-b684-39a5517d99f5",
   "metadata": {},
   "source": [
    "print('Total Costs \\n', totalCosts)\n",
    "print('************************************************************')\n",
    "print('Income \\n', revenue)"
   ]
  },
  {
   "cell_type": "raw",
   "id": "82194d8b-8a21-4023-adc2-a2f564fcde3b",
   "metadata": {},
   "source": [
    "import matplotlib.pyplot as plt\n",
    "\n",
    "plt.plot(revenue, totalCosts)\n",
    "plt.show()"
   ]
  },
  {
   "cell_type": "code",
   "execution_count": 5,
   "id": "4299db4e-a6bb-4398-ba5d-0df70b93c8d5",
   "metadata": {},
   "outputs": [],
   "source": [
    "df1 = pd.DataFrame(totalCosts, columns=['costs'])\n",
    "df1['revenue'] = revenue.tolist()\n",
    "df1['fixed'] = 12600"
   ]
  },
  {
   "cell_type": "code",
   "execution_count": 6,
   "id": "97928124-7040-40c8-a39d-59363e838634",
   "metadata": {},
   "outputs": [
    {
     "data": {
      "text/html": [
       "<div>\n",
       "<style scoped>\n",
       "    .dataframe tbody tr th:only-of-type {\n",
       "        vertical-align: middle;\n",
       "    }\n",
       "\n",
       "    .dataframe tbody tr th {\n",
       "        vertical-align: top;\n",
       "    }\n",
       "\n",
       "    .dataframe thead th {\n",
       "        text-align: right;\n",
       "    }\n",
       "</style>\n",
       "<table border=\"1\" class=\"dataframe\">\n",
       "  <thead>\n",
       "    <tr style=\"text-align: right;\">\n",
       "      <th></th>\n",
       "      <th>costs</th>\n",
       "      <th>revenue</th>\n",
       "      <th>fixed</th>\n",
       "    </tr>\n",
       "  </thead>\n",
       "  <tbody>\n",
       "    <tr>\n",
       "      <th>45</th>\n",
       "      <td>45225.0</td>\n",
       "      <td>72000.0</td>\n",
       "      <td>12600</td>\n",
       "    </tr>\n",
       "    <tr>\n",
       "      <th>46</th>\n",
       "      <td>45950.0</td>\n",
       "      <td>73600.0</td>\n",
       "      <td>12600</td>\n",
       "    </tr>\n",
       "    <tr>\n",
       "      <th>47</th>\n",
       "      <td>46675.0</td>\n",
       "      <td>75200.0</td>\n",
       "      <td>12600</td>\n",
       "    </tr>\n",
       "    <tr>\n",
       "      <th>48</th>\n",
       "      <td>47400.0</td>\n",
       "      <td>76800.0</td>\n",
       "      <td>12600</td>\n",
       "    </tr>\n",
       "    <tr>\n",
       "      <th>49</th>\n",
       "      <td>48125.0</td>\n",
       "      <td>78400.0</td>\n",
       "      <td>12600</td>\n",
       "    </tr>\n",
       "  </tbody>\n",
       "</table>\n",
       "</div>"
      ],
      "text/plain": [
       "      costs  revenue  fixed\n",
       "45  45225.0  72000.0  12600\n",
       "46  45950.0  73600.0  12600\n",
       "47  46675.0  75200.0  12600\n",
       "48  47400.0  76800.0  12600\n",
       "49  48125.0  78400.0  12600"
      ]
     },
     "execution_count": 6,
     "metadata": {},
     "output_type": "execute_result"
    }
   ],
   "source": [
    "df1.tail()"
   ]
  },
  {
   "cell_type": "code",
   "execution_count": 9,
   "id": "f47607a5-159e-407f-915d-3f700f260355",
   "metadata": {},
   "outputs": [
    {
     "data": {
      "image/png": "[encoded data removed]",
      "text/plain": [
       "<Figure size 432x288 with 1 Axes>"
      ]
     },
     "metadata": {
      "needs_background": "light"
     },
     "output_type": "display_data"
    }
   ],
   "source": [
    "import matplotlib.pyplot as plt\n",
    "\n",
    "df1.plot(xlabel='Quantity',ylabel='value', title='Break Even Analisys')\n",
    "plt.fill_between(df1.index, df1['costs'], df1['revenue'], where=(df1['costs'] > df1['revenue']), color='C0', alpha=0.3)\n",
    "plt.fill_between(df1.index, df1['costs'], df1['revenue'], where=(df1['costs'] < df1['revenue']), color='C1', alpha=0.3)\n",
    "\n",
    "plt.savefig(\"BreakevenAnalisys1.png\", bbox_inches=\"tight\", dpi=1200) \n"
   ]
  },
  {
   "cell_type": "code",
   "execution_count": 8,
   "id": "53d6dc56-af29-4198-b88d-9b0955afa50e",
   "metadata": {},
   "outputs": [
    {
     "data": {
      "image/png": "[encoded data removed]",
      "text/plain": [
       "<Figure size 432x288 with 1 Axes>"
      ]
     },
     "metadata": {
      "needs_background": "light"
     },
     "output_type": "display_data"
    }
   ],
   "source": [
    "df1.plot(xlabel='Quantity',ylabel='value', title='Break Even Analisys')\n",
    "plt.fill_between(df1.index, df1['costs'], df1['revenue'], where=(df1['costs'] > df1['revenue']), color='C0', alpha=0.3)\n",
    "plt.fill_between(df1.index, df1['costs'], df1['revenue'], where=(df1['costs'] < df1['revenue']), color='C1', alpha=0.3)\n",
    "\n",
    "bbox_args = dict(boxstyle=\"round\", fc=\"0.8\")\n",
    "arrow_args = dict(arrowstyle=\"->\")\n",
    "'''\n",
    "plt.annotate('figure fraction : 0, 0', xy=(0, 0), xycoords='figure fraction',\n",
    "             xytext=(20, 20), textcoords='offset points',\n",
    "             ha=\"left\", va=\"bottom\",\n",
    "             bbox=bbox_args,\n",
    "             arrowprops=arrow_args)\n",
    "'''\n",
    "from matplotlib.patches import Ellipse\n",
    "\n",
    "el = Ellipse((2, -1), 0.5, 0.5)\n",
    "\n",
    "plt.annotate('perdita',\n",
    "            xy=(2., 10000), xycoords='data',\n",
    "            xytext=(50, -20), textcoords='offset points',\n",
    "            size=15,\n",
    "            bbox=dict(boxstyle=\"round\",\n",
    "                      fc=(1.0, 0.7, 0.7),\n",
    "                      ec=(1., .5, .5)),\n",
    "            arrowprops=dict(arrowstyle=\"wedge,tail_width=1.\",\n",
    "                            fc=(1.0, 0.7, 0.7), ec=(1., .5, .5),\n",
    "                            patchA=None,\n",
    "                            patchB=el,\n",
    "                            relpos=(0.2, 0.8),\n",
    "                            connectionstyle=\"arc3,rad=-0.1\"))\n",
    "plt.annotate('guadagno',\n",
    "            xy=(35, 44000), xycoords='data',\n",
    "            xytext=(-100, 70), textcoords='offset points',\n",
    "            size=15, va=\"center\",\n",
    "            bbox=dict(boxstyle=\"round\", fc=(1.0, 0.7, 0.7), ec=\"none\"),\n",
    "            arrowprops=dict(arrowstyle=\"wedge,tail_width=1.\",\n",
    "                            fc=(1.0, 0.7, 0.7), ec=\"none\",\n",
    "                            patchA=None,\n",
    "                            patchB=el,\n",
    "                            relpos=(0.2, 0.5)))\n",
    "\n",
    "plt.savefig(\"BreakevenAnalisys2.png\", bbox_inches=\"tight\", dpi=1200) "
   ]
  },
  {
   "cell_type": "code",
   "execution_count": null,
   "id": "d00b813f",
   "metadata": {
    "collapsed": false,
    "jupyter": {
     "outputs_hidden": false
    },
    "pycharm": {
     "name": "#%%\n"
    }
   },
   "outputs": [],
   "source": []
  }
 ],
 "metadata": {
  "kernelspec": {
   "display_name": "Python 3 (ipykernel)",
   "language": "python",
   "name": "python3"
  },
  "language_info": {
   "codemirror_mode": {
    "name": "ipython",
    "version": 3
   },
   "file_extension": ".py",
   "mimetype": "text/x-python",
   "name": "python",
   "nbconvert_exporter": "python",
   "pygments_lexer": "ipython3",
   "version": "3.9.7"
  }
 },
 "nbformat": 4,
 "nbformat_minor": 5
}
