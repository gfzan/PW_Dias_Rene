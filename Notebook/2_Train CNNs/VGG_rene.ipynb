{
 "cells": [
  {
   "cell_type": "raw",
   "metadata": {},
   "source": [
    "from google.colab import drive\n",
    "drive.mount('/content/drive')"
   ]
  },
  {
   "cell_type": "markdown",
   "metadata": {
    "colab_type": "text",
    "id": "FE7KNzPPVrVV"
   },
   "source": [
    "# Image classification"
   ]
  },
  {
   "cell_type": "markdown",
   "metadata": {
    "colab_type": "text",
    "id": "zF9uvbXNVrVY"
   },
   "source": [
    "## Import packages"
   ]
  },
  {
   "cell_type": "code",
   "execution_count": 1,
   "metadata": {
    "colab": {},
    "colab_type": "code",
    "id": "L1WtoaOHVrVh"
   },
   "outputs": [],
   "source": [
    "import tensorflow as tf\n",
    "from tensorflow.keras.models import Sequential\n",
    "from tensorflow.keras.layers import Dense, Conv2D, GlobalAveragePooling2D, MaxPool2D, Dropout, Flatten\n",
    "from tensorflow.keras.preprocessing.image import ImageDataGenerator\n",
    "from tensorflow.keras.applications.vgg16 import VGG16\n",
    "from tensorflow.keras.preprocessing import image\n",
    "from tensorflow.keras.applications.vgg16 import preprocess_input\n",
    "from tensorflow.keras.models import Model\n",
    "from tensorboard.plugins.hparams import api as hp\n",
    "# from tensorflow.keras import optimizers\n",
    "\n",
    "import os\n",
    "import numpy as np\n",
    "import matplotlib.pyplot as plt\n",
    "from pathlib import Path, PureWindowsPath\n",
    "from datetime import datetime    # per calcolare tempi di esecuzione"
   ]
  },
  {
   "cell_type": "markdown",
   "metadata": {
    "colab_type": "text",
    "id": "UZZI6lNkVrVm"
   },
   "source": [
    "## Load data"
   ]
  },
  {
   "cell_type": "code",
   "execution_count": 2,
   "metadata": {
    "colab_type": "text",
    "id": "DPHx8-t-VrVo",
    "tags": []
   },
   "outputs": [
    {
     "name": "stdout",
     "output_type": "stream",
     "text": [
      "PATh log =  E:\\Logs\\VGG16\\rene\n",
      "LogsDir =  E:\\Logs\\VGG16\\rene\\20210921-123346\n",
      "E:\\Logs\\VGG16\n"
     ]
    }
   ],
   "source": [
    "start_time = datetime.now()\n",
    "\n",
    "# SET DIR DATASET AND IMAGE TRAIN DIR\n",
    "import sys\n",
    "\n",
    "if sys.platform.startswith('linux'):\n",
    "    DataSet = '/run/media/gianfranco/Data_SSD/'     \n",
    "    PathImg = 'DATAset/RENE/Img/' \n",
    "elif sys.platform.startswith('win'):\n",
    "    DataSet = 'E:\\\\'     \n",
    "    PathImg = 'DATAset\\\\RENE\\\\Img\\\\' \n",
    "else:\n",
    "    print('altro S. O.')\n",
    "    \n",
    "# DIR CON LE IMAMGINI DI TRAIN\n",
    "train_dir = DataSet + PathImg\n",
    "\n",
    "NET = 'VGG16'      # or 'VGG16' ; 'AlexNet'\n",
    "SETname = 'rene'    # or 'Intel' ; 'coco-animals' ; 'VOC2012'\n",
    "\n",
    "PATH_log = os.path.join(DataSet, 'Logs', NET, SETname)\n",
    "\n",
    "if not os.path.exists(PATH_log):\n",
    "            os.makedirs(PATH_log)\n",
    "        \n",
    "dateTime = datetime.now().strftime(\"%Y%m%d-%H%M%S\")\n",
    "        \n",
    "LogsDir = os.path.join(PATH_log, dateTime)\n",
    "\n",
    "print('PATh log = ', PATH_log)\n",
    "print('LogsDir = ', LogsDir)\n",
    "print(os.path.dirname(PATH_log))"
   ]
  },
  {
   "cell_type": "markdown",
   "metadata": {
    "colab_type": "text",
    "id": "Giv0wMQzVrVw"
   },
   "source": [
    "The dataset has the following directory structure:\n",
    "\n",
    "<pre>\n",
    "<b>RENE/Img</b>\n",
    "|__ <b>sclerosed</b>\n",
    "    |______ <b>PNG images</b>\n",
    "  \n",
    "|__ <b>normal</b>\n",
    "    |______ <b>PNG images</b>\n",
    "</pre>"
   ]
  },
  {
   "cell_type": "markdown",
   "metadata": {
    "colab_type": "text",
    "id": "ZdrHHTy2VrV3"
   },
   "source": [
    "### Understand the data"
   ]
  },
  {
   "cell_type": "code",
   "execution_count": 3,
   "metadata": {
    "colab": {},
    "colab_type": "code",
    "id": "vc4u8e9hVrV4",
    "tags": []
   },
   "outputs": [
    {
     "name": "stdout",
     "output_type": "stream",
     "text": [
      "['normal', 'sclerosed']\n",
      "total training normal images: 1170\n",
      "total training sclerosed images: 1170\n",
      "----------\n",
      "Total training images: 2340\n"
     ]
    }
   ],
   "source": [
    "total_train = 0\n",
    "\n",
    "classNames = [x for x in os.listdir( train_dir )]  \n",
    "print(classNames)\n",
    "\n",
    "for x in classNames:\n",
    "    if x != '.DS_Store':\n",
    "        filePath = os.path.join(train_dir, x)\n",
    "        num_x_train = len(os.listdir(filePath))\n",
    "        total_train += num_x_train    #sommo le varie classi\n",
    "        print('total training %s images: %d' % (x, num_x_train))\n",
    "\n",
    "print(\"----------\")\n",
    "print(\"Total training images:\", total_train)"
   ]
  },
  {
   "cell_type": "markdown",
   "metadata": {
    "colab_type": "text",
    "id": "8Lp-0ejxOtP1"
   },
   "source": [
    "#### COSTANTI\n",
    "For convenience, set up variables to use while pre-processing the dataset and training the network."
   ]
  },
  {
   "cell_type": "code",
   "execution_count": 4,
   "metadata": {
    "colab": {},
    "colab_type": "code",
    "id": "3NqNselLVrWA"
   },
   "outputs": [],
   "source": [
    "batch_size = 8\n",
    "epochs = 200\n",
    "IMG_HEIGHT = 224\n",
    "IMG_WIDTH = 224\n",
    "classes = len(classNames)\n",
    "\n",
    "# Regolarizzazione\n",
    "L1 = 0.0001\n",
    "L2 = 0.001\n",
    "\n",
    "# Ottimizzazione\n",
    "Adam = tf.optimizers.Adam(learning_rate=0.00001, beta_1=0.9, beta_2=0.999, epsilon=1e-08, amsgrad=False, name='Adam')\n",
    "RMSprop = tf.optimizers.RMSprop(learning_rate=0.001, rho=0.9, momentum=0.0, epsilon=1e-07, centered=False, name='RMSprop')\n",
    "SGD = tf.optimizers.SGD(learning_rate=0.001, decay=1e-6, momentum=0.9, nesterov=True, name='SGD')\n",
    "\n",
    "# scelta OPT\n",
    "opt=Adam"
   ]
  },
  {
   "cell_type": "markdown",
   "metadata": {
    "colab_type": "text",
    "id": "INn-cOn1VrWC"
   },
   "source": [
    "## Data preparation"
   ]
  },
  {
   "cell_type": "code",
   "execution_count": 5,
   "metadata": {
    "colab": {},
    "colab_type": "code",
    "id": "syDdF_LWVrWE"
   },
   "outputs": [],
   "source": [
    "train_image_generator = ImageDataGenerator(\n",
    "                                            rescale=1./(255),\n",
    "                                            validation_split=0.2\n",
    "                                          )"
   ]
  },
  {
   "cell_type": "markdown",
   "metadata": {
    "colab_type": "text",
    "id": "RLciCR_FVrWH"
   },
   "source": [
    "After defining the generators for training and validation images, the `flow_from_directory` method load images from the disk, applies rescaling, and resizes the images into the required dimensions."
   ]
  },
  {
   "cell_type": "code",
   "execution_count": 6,
   "metadata": {
    "colab": {},
    "colab_type": "code",
    "id": "Pw94ajOOVrWI",
    "tags": []
   },
   "outputs": [
    {
     "name": "stdout",
     "output_type": "stream",
     "text": [
      "Found 1872 images belonging to 2 classes.\n",
      "Batches train=234\n",
      "Batch shape=(8, 224, 224, 3), min=0.000, max=1.000\n",
      "sample max =  1.0\n",
      "sample min =  0.007843138\n"
     ]
    }
   ],
   "source": [
    "train_data_gen = train_image_generator.flow_from_directory(batch_size=batch_size,\n",
    "                                                           directory=train_dir,\n",
    "                                                           shuffle=True,\n",
    "                                                           target_size=(IMG_HEIGHT, IMG_WIDTH),\n",
    "                                                           class_mode='categorical',\n",
    "                                                           subset='training')\n",
    "class_dict = train_data_gen.class_indices\n",
    "\n",
    "print('Batches train=%d' % (len(train_data_gen)))\n",
    "\n",
    "batchX, batchy = train_data_gen.next()\n",
    "print('Batch shape=%s, min=%.3f, max=%.3f' % (batchX.shape, batchX.min(), batchX.max()))\n",
    "\n",
    "print('sample max = ', np.max(train_data_gen[1][0][0][:,:,2]))\n",
    "print('sample min = ', np.min(train_data_gen[1][0][0][:,:,2]))"
   ]
  },
  {
   "cell_type": "code",
   "execution_count": 7,
   "metadata": {
    "colab": {},
    "colab_type": "code",
    "id": "2oUoKUzRVrWM",
    "tags": []
   },
   "outputs": [
    {
     "name": "stdout",
     "output_type": "stream",
     "text": [
      "Found 468 images belonging to 2 classes.\n"
     ]
    }
   ],
   "source": [
    "val_data_gen = train_image_generator.flow_from_directory(batch_size=batch_size,\n",
    "                                                              directory=train_dir,\n",
    "                                                              target_size=(IMG_HEIGHT, IMG_WIDTH),\n",
    "                                                              class_mode='categorical',\n",
    "                                                              subset='validation')\n"
   ]
  },
  {
   "cell_type": "markdown",
   "metadata": {
    "colab_type": "text",
    "id": "hyexPJ8CVrWP"
   },
   "source": [
    "### Visualize training images"
   ]
  },
  {
   "cell_type": "code",
   "execution_count": 8,
   "metadata": {
    "colab": {},
    "colab_type": "code",
    "id": "3f0Z7NZgVrWQ"
   },
   "outputs": [],
   "source": [
    "sample_training_images, labels = next(train_data_gen)"
   ]
  },
  {
   "cell_type": "markdown",
   "metadata": {
    "colab_type": "text",
    "id": "49weMt5YVrWT"
   },
   "source": [
    "The `next` function returns a batch from the dataset. The return value of `next` function is in form of `(x_train, y_train)` where x_train is training features and y_train, its labels. Discard the labels to only visualize the training images."
   ]
  },
  {
   "cell_type": "code",
   "execution_count": 9,
   "metadata": {
    "colab": {},
    "colab_type": "code",
    "id": "JMt2RES_VrWU"
   },
   "outputs": [],
   "source": [
    "# This function will plot images in the form of a grid with 1 row and 5 columns where images are placed in each column.\n",
    "def plotImages(images_arr, labels):\n",
    "    fig, axes = plt.subplots(1, 5, figsize=(20,20))\n",
    "    axes = axes.flatten()\n",
    "    for img, ax, label in zip( images_arr, axes, labels):\n",
    "        ax.imshow(img)\n",
    "        ax.axis('on')\n",
    "        title = list(class_dict.keys())[list(class_dict.values()).index(np.argmax(label))]\n",
    "        ax.set_title(title)\n",
    "    plt.tight_layout()\n",
    "    plt.show()"
   ]
  },
  {
   "cell_type": "code",
   "execution_count": null,
   "metadata": {
    "colab": {},
    "colab_type": "code",
    "id": "d_VVg_gEVrWW"
   },
   "outputs": [],
   "source": [
    "plotImages(sample_training_images[:5], labels[:5])"
   ]
  },
  {
   "cell_type": "markdown",
   "metadata": {
    "colab": {},
    "colab_type": "code",
    "id": "d_VVg_gEVrWW"
   },
   "source": [
    "### Create \"Callbacks\" for Tensorboard monitor "
   ]
  },
  {
   "cell_type": "code",
   "execution_count": null,
   "metadata": {
    "colab": {},
    "colab_type": "code",
    "id": "d_VVg_gEVrWW"
   },
   "outputs": [],
   "source": [
    "callbacks_list = [\n",
    "    tf.keras.callbacks.EarlyStopping(monitor = 'val_accuracy', patience = 8, mode='max'),\n",
    "    tf.keras.callbacks.ModelCheckpoint(filepath =os.path.join(PATH_log, 'Rene_'+dateTime+'_model.h5'), monitor = 'val_accuracy', save_best_only = True, verbose=1),\n",
    "    tf.keras.callbacks.ReduceLROnPlateau(monitor = 'val_accuracy', factor = 0.05, patience = 3, verbose=1, mode='max'),\n",
    "    tf.keras.callbacks.TensorBoard(log_dir = LogsDir, histogram_freq = 1, embeddings_freq = 1)\n",
    "]"
   ]
  },
  {
   "cell_type": "markdown",
   "metadata": {
    "colab": {},
    "colab_type": "code",
    "id": "d_VVg_gEVrWW"
   },
   "source": [
    "#### REGOLARIZZAZIONE"
   ]
  },
  {
   "cell_type": "code",
   "execution_count": null,
   "metadata": {
    "colab": {},
    "colab_type": "code",
    "id": "d_VVg_gEVrWW"
   },
   "outputs": [],
   "source": [
    "reg = tf.keras.regularizers.L1L2(l1=L1, l2=L2)\n",
    "reg.__dict__"
   ]
  },
  {
   "cell_type": "markdown",
   "metadata": {
    "colab_type": "text",
    "id": "b5Ej-HLGVrWZ"
   },
   "source": [
    "## Create the model"
   ]
  },
  {
   "cell_type": "markdown",
   "metadata": {
    "colab_type": "text",
    "id": "wEgW4i18VrWZ"
   },
   "source": [
    "The model consists of ... VGG16"
   ]
  },
  {
   "cell_type": "code",
   "execution_count": null,
   "metadata": {
    "colab": {},
    "colab_type": "code",
    "id": "F15-uwLPVrWa",
    "tags": []
   },
   "outputs": [],
   "source": [
    "modelVGG = VGG16(include_top=False, weights='imagenet', input_tensor=None, input_shape=(224, 224, 3))\n",
    "modelVGG.trainable = True\n",
    "\n",
    "modelVGG.summary()"
   ]
  },
  {
   "cell_type": "code",
   "execution_count": null,
   "metadata": {
    "colab": {},
    "colab_type": "code",
    "id": "F15-uwLPVrWa",
    "tags": []
   },
   "outputs": [],
   "source": [
    "layer_dict = dict([(layer.name, layer) for layer in modelVGG.layers])\n",
    "\n",
    "x = layer_dict['block5_pool'].output\n",
    "\n",
    "# Classification block\n",
    "x = Flatten(name='flatten')(x)\n",
    "x = Dense(1024, activation='relu', name='fc1')(x)\n",
    "x = Dropout(0.4)(x)\n",
    "x = Dense(1024, activation='relu', name='fc2')(x)\n",
    "x = Dropout(0.4)(x)\n",
    "output_tensor = Dense(len(class_dict), activation='softmax', name='predictions')(x)\n",
    "\n",
    "model = Model(inputs=modelVGG.input, outputs=output_tensor)\n",
    "\n",
    "for layer in model.layers:\n",
    "    for attr in ['kernel_regularizer']:\n",
    "        if hasattr(layer, attr):\n",
    "          setattr(layer, attr, reg)\n",
    "          print(layer.name)"
   ]
  },
  {
   "cell_type": "markdown",
   "metadata": {
    "colab_type": "text",
    "id": "PI5cdkMQVrWc"
   },
   "source": [
    "### Compile the model\n",
    "\n",
    "For this tutorial, choose the *ADAM* optimizer and *categorical_crossentropy* loss function. To view training and validation accuracy for each training epoch, pass the `metrics` argument."
   ]
  },
  {
   "cell_type": "code",
   "execution_count": null,
   "metadata": {
    "colab": {},
    "colab_type": "code",
    "id": "6Mg7_TXOVrWd"
   },
   "outputs": [],
   "source": [
    "model.compile(optimizer=opt,\n",
    "              loss='categorical_crossentropy',\n",
    "              metrics=['accuracy'])"
   ]
  },
  {
   "cell_type": "markdown",
   "metadata": {
    "colab_type": "text",
    "id": "2YmQZ3TAVrWg"
   },
   "source": [
    "### Model summary\n",
    "\n",
    "View all the layers of the network using the model's `summary` method:"
   ]
  },
  {
   "cell_type": "code",
   "execution_count": null,
   "metadata": {
    "colab": {},
    "colab_type": "code",
    "id": "Vtny8hmBVrWh",
    "tags": []
   },
   "outputs": [],
   "source": [
    "model.summary()"
   ]
  },
  {
   "cell_type": "markdown",
   "metadata": {
    "colab_type": "text",
    "id": "N06iqE8VVrWj"
   },
   "source": [
    "### Train the model"
   ]
  },
  {
   "cell_type": "markdown",
   "metadata": {
    "colab_type": "text",
    "id": "oub9RtoFVrWk"
   },
   "source": [
    "Use the 'fit' (`fit_generator`) method of the `ImageDataGenerator` class to train the network."
   ]
  },
  {
   "cell_type": "code",
   "execution_count": null,
   "metadata": {
    "colab": {},
    "colab_type": "code",
    "id": "KSF2HqhDVrWk",
    "tags": []
   },
   "outputs": [],
   "source": [
    "history = model.fit(\n",
    "    train_data_gen,\n",
    "    steps_per_epoch=train_data_gen.samples // batch_size,\n",
    "    epochs=epochs,\n",
    "    callbacks = callbacks_list,\n",
    "    validation_data=val_data_gen,\n",
    "    validation_steps=val_data_gen.samples // batch_size\n",
    ")\n",
    "for key in history.history:\n",
    "    print(key)"
   ]
  },
  {
   "cell_type": "code",
   "execution_count": null,
   "metadata": {
    "colab": {},
    "colab_type": "code",
    "id": "K6oA77ADVrWp"
   },
   "outputs": [],
   "source": []
  },
  {
   "cell_type": "markdown",
   "metadata": {
    "colab_type": "text",
    "id": "ojJNteAGVrWo",
    "tags": []
   },
   "source": [
    "### Visualize training results"
   ]
  },
  {
   "cell_type": "markdown",
   "metadata": {
    "colab_type": "text",
    "id": "LZPYT-EmVrWo"
   },
   "source": [
    "Now visualize the results after training the network."
   ]
  },
  {
   "cell_type": "code",
   "execution_count": null,
   "metadata": {
    "colab": {},
    "colab_type": "code",
    "id": "K6oA77ADVrWp"
   },
   "outputs": [],
   "source": [
    "acc = history.history['accuracy']\n",
    "val_acc = history.history['val_accuracy']\n",
    "\n",
    "loss=history.history['loss']\n",
    "val_loss=history.history['val_loss']\n",
    "\n",
    "lr=history.history['lr']\n",
    "\n",
    "epochs_range = range(len(acc))\n",
    "\n",
    "plt.figure(figsize=(16, 8))\n",
    "plt.subplot(1, 3, 1)\n",
    "plt.plot(epochs_range, acc, label='Training Accuracy')\n",
    "plt.plot(epochs_range, val_acc, label='Validation Accuracy')\n",
    "plt.legend(loc='lower right')\n",
    "plt.title('Training and Validation Accuracy')\n",
    "\n",
    "plt.subplot(1, 3, 2)\n",
    "plt.plot(epochs_range, loss, label='Training Loss')\n",
    "plt.plot(epochs_range, val_loss, label='Validation Loss')\n",
    "plt.legend(loc='upper right')\n",
    "plt.title('Training and Validation Loss')\n",
    "\n",
    "plt.subplot(1, 3, 3)\n",
    "plt.plot(epochs_range, lr, label='Learning rate')\n",
    "plt.legend(loc='upper right')\n",
    "plt.title('Learning Rate')\n",
    "plt.show()"
   ]
  },
  {
   "cell_type": "code",
   "execution_count": null,
   "metadata": {
    "colab": {},
    "colab_type": "code",
    "id": "K6oA77ADVrWp"
   },
   "outputs": [],
   "source": [
    "end_time = datetime.now()\n",
    "print('Duration: {}'.format(end_time - start_time))"
   ]
  },
  {
   "cell_type": "markdown",
   "metadata": {
    "colab_type": "text",
    "id": "rLO7yhLlVrWu"
   },
   "source": [
    "## Overfitting"
   ]
  },
  {
   "cell_type": "code",
   "execution_count": null,
   "metadata": {},
   "outputs": [],
   "source": [
    "# restart kernel to reinitialize variables\n",
    "from IPython.core.display import HTML\n",
    "HTML(\"<script>Jupyter.notebook.kernel.restart()</script>\")"
   ]
  },
  {
   "cell_type": "markdown",
   "metadata": {
    "colab_type": "text",
    "id": "UOoVpxFwVrWy"
   },
   "source": [
    "## Data augmentation"
   ]
  },
  {
   "cell_type": "code",
   "execution_count": null,
   "metadata": {
    "colab": {},
    "colab_type": "code",
    "id": "Bi1_vHyBVrW2"
   },
   "outputs": [],
   "source": [
    "start_time2 = datetime.now()\n",
    "dateTime = datetime.now().strftime(\"%Y%m%d-%H%M%S\")\n",
    "\n",
    "LogsDir = os.path.join(PATH_log, datetime.now().strftime(\"%Y%m%d-%H%M%S\")) \n",
    "\n",
    "callbacks_list_2 = [\n",
    "    tf.keras.callbacks.EarlyStopping(monitor = 'val_accuracy', patience = 7),\n",
    "    tf.keras.callbacks.ModelCheckpoint(filepath =os.path.join(PATH_log, 'Rene2_'+dateTime+'_model_2.h5'), monitor = 'val_accuracy', save_best_only = True, verbose=1),\n",
    "    tf.keras.callbacks.ReduceLROnPlateau(monitor = 'val_accuracy', factor = 0.05, patience = 2, verbose=1, mode='max'),\n",
    "    tf.keras.callbacks.TensorBoard(log_dir = LogsDir, histogram_freq = 1, embeddings_freq = 1)\n",
    "]"
   ]
  },
  {
   "cell_type": "markdown",
   "metadata": {
    "colab": {},
    "colab_type": "code",
    "id": "Bi1_vHyBVrW2"
   },
   "source": [
    "#### COSTANTI"
   ]
  },
  {
   "cell_type": "code",
   "execution_count": 22,
   "metadata": {
    "colab": {},
    "colab_type": "code",
    "id": "Bi1_vHyBVrW2"
   },
   "outputs": [],
   "source": [
    "Adam = RMSprop = SGD = ()\n",
    "\n",
    "Adam = tf.optimizers.Adam(learning_rate=0.000001, beta_1=0.9, beta_2=0.999, epsilon=1e-08, amsgrad=False, name='Adam')\n",
    "RMSprop = tf.optimizers.RMSprop(learning_rate=0.001, rho=0.9, momentum=0.0, epsilon=1e-07, centered=False, name='RMSprop')\n",
    "SGD = tf.optimizers.SGD(learning_rate=0.001, decay=1e-6, momentum=0.9, nesterov=True, name='SGD')\n",
    "\n",
    "opt = Adam"
   ]
  },
  {
   "cell_type": "markdown",
   "metadata": {
    "colab_type": "text",
    "id": "2uJ1G030VrWz"
   },
   "source": [
    "### Augment and visualize data"
   ]
  },
  {
   "cell_type": "code",
   "execution_count": 23,
   "metadata": {
    "colab": {},
    "colab_type": "code",
    "id": "gnr2xujaVrXe"
   },
   "outputs": [],
   "source": [
    "image_gen_train = ()\n",
    "image_gen_train = ImageDataGenerator(\n",
    "                    rescale=1./255,\n",
    "                    rotation_range=90,\n",
    "                    horizontal_flip=True,\n",
    "                    zoom_range=0.5,\n",
    "                    brightness_range=[0.6, 1.0],\n",
    "                    validation_split=0.2\n",
    "                    )"
   ]
  },
  {
   "cell_type": "code",
   "execution_count": 24,
   "metadata": {
    "colab": {},
    "colab_type": "code",
    "id": "K0Efxy7EVrXh",
    "tags": []
   },
   "outputs": [
    {
     "name": "stdout",
     "output_type": "stream",
     "text": [
      "Found 1872 images belonging to 2 classes.\n"
     ]
    }
   ],
   "source": [
    "train_data_gen = ()\n",
    "train_data_gen = image_gen_train.flow_from_directory(batch_size=batch_size,\n",
    "                                                     directory=train_dir,\n",
    "                                                     shuffle=True,\n",
    "                                                     target_size=(IMG_HEIGHT, IMG_WIDTH),\n",
    "                                                     class_mode='categorical',\n",
    "                                                     subset='training')"
   ]
  },
  {
   "cell_type": "markdown",
   "metadata": {
    "colab_type": "text",
    "id": "AW-pV5awVrXl"
   },
   "source": [
    "Visualize how a single image would look five different times when passing these augmentations randomly to the dataset."
   ]
  },
  {
   "cell_type": "raw",
   "metadata": {
    "colab": {},
    "colab_type": "code",
    "id": "z2m68eMhVrXm"
   },
   "source": [
    "augmented_images, labels = [train_data_gen[0][0][0] for i in range(5)], [train_data_gen[0][1] for i in range(5)]\n",
    "plotImages(augmented_images, labels)"
   ]
  },
  {
   "cell_type": "markdown",
   "metadata": {
    "colab_type": "text",
    "id": "J8cUd7FXVrXq"
   },
   "source": [
    "### Create validation data generator"
   ]
  },
  {
   "cell_type": "markdown",
   "metadata": {
    "colab_type": "text",
    "id": "a99fDBt7VrXr"
   },
   "source": [
    "Generally, only apply data augmentation to the training examples. In this case, only rescale the validation images and convert them into batches using `ImageDataGenerator`."
   ]
  },
  {
   "cell_type": "code",
   "execution_count": 25,
   "metadata": {
    "colab": {},
    "colab_type": "code",
    "id": "1PCHKzI8VrXv",
    "tags": []
   },
   "outputs": [
    {
     "name": "stdout",
     "output_type": "stream",
     "text": [
      "Found 468 images belonging to 2 classes.\n"
     ]
    }
   ],
   "source": [
    "val_data_gen = ()\n",
    "val_data_gen = image_gen_train.flow_from_directory(batch_size=batch_size,\n",
    "                                                 directory=train_dir,\n",
    "                                                 target_size=(IMG_HEIGHT, IMG_WIDTH),\n",
    "                                                 class_mode='categorical',\n",
    "                                                 subset='validation')"
   ]
  },
  {
   "cell_type": "markdown",
   "metadata": {
    "colab_type": "text",
    "id": "yQGhdqHFVrXx"
   },
   "source": [
    "## Dropout"
   ]
  },
  {
   "cell_type": "markdown",
   "metadata": {
    "colab_type": "text",
    "id": "DyxxXRmVVrXy"
   },
   "source": [
    "## Creating a new network with Dropouts"
   ]
  },
  {
   "cell_type": "code",
   "execution_count": 26,
   "metadata": {
    "colab": {},
    "colab_type": "code",
    "id": "2fjio8EsVrXz",
    "tags": []
   },
   "outputs": [
    {
     "name": "stdout",
     "output_type": "stream",
     "text": [
      "Model: \"sequential\"\n",
      "_________________________________________________________________\n",
      "Layer (type)                 Output Shape              Param #   \n",
      "=================================================================\n",
      "block1_conv1 (Conv2D)        (None, 224, 224, 64)      1792      \n",
      "_________________________________________________________________\n",
      "dropout_2 (Dropout)          (None, 224, 224, 64)      0         \n",
      "_________________________________________________________________\n",
      "block1_conv2 (Conv2D)        (None, 224, 224, 64)      36928     \n",
      "_________________________________________________________________\n",
      "dropout_3 (Dropout)          (None, 224, 224, 64)      0         \n",
      "_________________________________________________________________\n",
      "block1_pool (MaxPooling2D)   (None, 112, 112, 64)      0         \n",
      "_________________________________________________________________\n",
      "block2_conv1 (Conv2D)        (None, 112, 112, 128)     73856     \n",
      "_________________________________________________________________\n",
      "dropout_4 (Dropout)          (None, 112, 112, 128)     0         \n",
      "_________________________________________________________________\n",
      "block2_conv2 (Conv2D)        (None, 112, 112, 128)     147584    \n",
      "_________________________________________________________________\n",
      "dropout_5 (Dropout)          (None, 112, 112, 128)     0         \n",
      "_________________________________________________________________\n",
      "block2_pool (MaxPooling2D)   (None, 56, 56, 128)       0         \n",
      "_________________________________________________________________\n",
      "block3_conv1 (Conv2D)        (None, 56, 56, 256)       295168    \n",
      "_________________________________________________________________\n",
      "dropout_6 (Dropout)          (None, 56, 56, 256)       0         \n",
      "_________________________________________________________________\n",
      "block3_conv2 (Conv2D)        (None, 56, 56, 256)       590080    \n",
      "_________________________________________________________________\n",
      "dropout_7 (Dropout)          (None, 56, 56, 256)       0         \n",
      "_________________________________________________________________\n",
      "block3_conv3 (Conv2D)        (None, 56, 56, 256)       590080    \n",
      "_________________________________________________________________\n",
      "dropout_8 (Dropout)          (None, 56, 56, 256)       0         \n",
      "_________________________________________________________________\n",
      "block3_pool (MaxPooling2D)   (None, 28, 28, 256)       0         \n",
      "_________________________________________________________________\n",
      "block4_conv1 (Conv2D)        (None, 28, 28, 512)       1180160   \n",
      "_________________________________________________________________\n",
      "dropout_9 (Dropout)          (None, 28, 28, 512)       0         \n",
      "_________________________________________________________________\n",
      "block4_conv2 (Conv2D)        (None, 28, 28, 512)       2359808   \n",
      "_________________________________________________________________\n",
      "dropout_10 (Dropout)         (None, 28, 28, 512)       0         \n",
      "_________________________________________________________________\n",
      "block4_conv3 (Conv2D)        (None, 28, 28, 512)       2359808   \n",
      "_________________________________________________________________\n",
      "dropout_11 (Dropout)         (None, 28, 28, 512)       0         \n",
      "_________________________________________________________________\n",
      "block4_pool (MaxPooling2D)   (None, 14, 14, 512)       0         \n",
      "_________________________________________________________________\n",
      "block5_conv1 (Conv2D)        (None, 14, 14, 512)       2359808   \n",
      "_________________________________________________________________\n",
      "dropout_12 (Dropout)         (None, 14, 14, 512)       0         \n",
      "_________________________________________________________________\n",
      "block5_conv2 (Conv2D)        (None, 14, 14, 512)       2359808   \n",
      "_________________________________________________________________\n",
      "dropout_13 (Dropout)         (None, 14, 14, 512)       0         \n",
      "_________________________________________________________________\n",
      "block5_conv3 (Conv2D)        (None, 14, 14, 512)       2359808   \n",
      "_________________________________________________________________\n",
      "dropout_14 (Dropout)         (None, 14, 14, 512)       0         \n",
      "_________________________________________________________________\n",
      "block5_pool (MaxPooling2D)   (None, 7, 7, 512)         0         \n",
      "_________________________________________________________________\n",
      "flatten (Flatten)            (None, 25088)             0         \n",
      "_________________________________________________________________\n",
      "fc1 (Dense)                  (None, 1024)              25691136  \n",
      "_________________________________________________________________\n",
      "dropout_15 (Dropout)         (None, 1024)              0         \n",
      "_________________________________________________________________\n",
      "dropout (Dropout)            (None, 1024)              0         \n",
      "_________________________________________________________________\n",
      "fc2 (Dense)                  (None, 1024)              1049600   \n",
      "_________________________________________________________________\n",
      "dropout_16 (Dropout)         (None, 1024)              0         \n",
      "_________________________________________________________________\n",
      "dropout_1 (Dropout)          (None, 1024)              0         \n",
      "_________________________________________________________________\n",
      "predictions (Dense)          (None, 2)                 2050      \n",
      "=================================================================\n",
      "Total params: 41,457,474\n",
      "Trainable params: 41,457,474\n",
      "Non-trainable params: 0\n",
      "_________________________________________________________________\n"
     ]
    }
   ],
   "source": [
    "from tensorflow.keras.layers import Dropout\n",
    "\n",
    "updated_model = Sequential()\n",
    "for layer in model.layers:\n",
    "    updated_model.add(layer)\n",
    "    if layer.name in ['fc1', 'fc2'] or 'conv' in layer.name:\n",
    "        updated_model.add(Dropout(.5))\n",
    "\n",
    "model = updated_model\n",
    "\n",
    "model.summary()"
   ]
  },
  {
   "cell_type": "markdown",
   "metadata": {
    "colab_type": "text",
    "id": "tpTgIxWAVrX0"
   },
   "source": [
    "### Compile the model"
   ]
  },
  {
   "cell_type": "markdown",
   "metadata": {
    "colab_type": "text",
    "id": "1osvc_iTVrX1"
   },
   "source": [
    "After introducing dropouts to the network, compile the model and view the layers summary."
   ]
  },
  {
   "cell_type": "code",
   "execution_count": 27,
   "metadata": {
    "colab": {},
    "colab_type": "code",
    "id": "OkIJhS-WVrX1"
   },
   "outputs": [
    {
     "data": {
      "text/plain": [
       "{'_use_locking': True,\n",
       " '_name': 'Adam',\n",
       " '_hyper': {'learning_rate': 1e-06,\n",
       "  'decay': 0.0,\n",
       "  'beta_1': 0.9,\n",
       "  'beta_2': 0.999},\n",
       " '_slots': {},\n",
       " '_slot_names': [],\n",
       " '_weights': [],\n",
       " '_iterations': None,\n",
       " '_deferred_slot_restorations': {},\n",
       " '_initial_decay': 0.0,\n",
       " '_hypers_created': False,\n",
       " 'epsilon': 1e-08,\n",
       " 'amsgrad': False,\n",
       " '_self_setattr_tracking': True,\n",
       " '_self_unconditional_checkpoint_dependencies': [],\n",
       " '_self_unconditional_dependency_names': {},\n",
       " '_self_unconditional_deferred_dependencies': {},\n",
       " '_self_update_uid': -1,\n",
       " '_self_name_based_restores': set()}"
      ]
     },
     "execution_count": 27,
     "metadata": {},
     "output_type": "execute_result"
    }
   ],
   "source": [
    "model.compile(optimizer=opt,\n",
    "              loss='categorical_crossentropy',\n",
    "              metrics=['accuracy'])\n",
    "\n",
    "Adam.__dict__"
   ]
  },
  {
   "cell_type": "markdown",
   "metadata": {
    "colab_type": "text",
    "id": "7KiDshEUVrX6"
   },
   "source": [
    "### Train the model"
   ]
  },
  {
   "cell_type": "markdown",
   "metadata": {
    "colab_type": "text",
    "id": "NFj0oVqVVrX6"
   },
   "source": [
    "After successfully introducing data augmentations to the training examples and adding dropouts to the network, train this new network:"
   ]
  },
  {
   "cell_type": "code",
   "execution_count": 28,
   "metadata": {
    "colab": {},
    "colab_type": "code",
    "id": "GWxHs_luVrX7",
    "tags": []
   },
   "outputs": [
    {
     "name": "stdout",
     "output_type": "stream",
     "text": [
      "WARNING:tensorflow:sample_weight modes were coerced from\n",
      "  ...\n",
      "    to  \n",
      "  ['...']\n",
      "WARNING:tensorflow:sample_weight modes were coerced from\n",
      "  ...\n",
      "    to  \n",
      "  ['...']\n",
      "Train for 234 steps, validate for 58 steps\n",
      "Epoch 1/200\n",
      "233/234 [============================>.] - ETA: 1s - loss: 1.9100 - accuracy: 0.8884\n",
      "Epoch 00001: val_accuracy improved from -inf to 0.91379, saving model to E:\\Logs\\VGG16\\rene\\Rene2_20210921-134953_model_2.h5\n",
      "234/234 [==============================] - 392s 2s/step - loss: 1.9019 - accuracy: 0.8889 - val_loss: 0.2345 - val_accuracy: 0.9138\n",
      "Epoch 2/200\n",
      "233/234 [============================>.] - ETA: 1s - loss: 1.0938 - accuracy: 0.8991\n",
      "Epoch 00002: val_accuracy did not improve from 0.91379\n",
      "234/234 [==============================] - 388s 2s/step - loss: 1.1054 - accuracy: 0.8985 - val_loss: 0.2110 - val_accuracy: 0.9138\n",
      "Epoch 3/200\n",
      "233/234 [============================>.] - ETA: 1s - loss: 0.8438 - accuracy: 0.9158\n",
      "Epoch 00003: val_accuracy did not improve from 0.91379\n",
      "\n",
      "Epoch 00003: ReduceLROnPlateau reducing learning rate to 4.999999987376214e-08.\n",
      "234/234 [==============================] - 388s 2s/step - loss: 0.8590 - accuracy: 0.9151 - val_loss: 0.2594 - val_accuracy: 0.9009\n",
      "Epoch 4/200\n",
      "233/234 [============================>.] - ETA: 1s - loss: 0.7656 - accuracy: 0.9131\n",
      "Epoch 00004: val_accuracy improved from 0.91379 to 0.93103, saving model to E:\\Logs\\VGG16\\rene\\Rene2_20210921-134953_model_2.h5\n",
      "234/234 [==============================] - 389s 2s/step - loss: 0.7695 - accuracy: 0.9129 - val_loss: 0.1589 - val_accuracy: 0.9310\n",
      "Epoch 5/200\n",
      "233/234 [============================>.] - ETA: 1s - loss: 0.7876 - accuracy: 0.9158\n",
      "Epoch 00005: val_accuracy did not improve from 0.93103\n",
      "234/234 [==============================] - 388s 2s/step - loss: 0.7843 - accuracy: 0.9161 - val_loss: 0.2048 - val_accuracy: 0.9224\n",
      "Epoch 6/200\n",
      "233/234 [============================>.] - ETA: 1s - loss: 0.8120 - accuracy: 0.9072\n",
      "Epoch 00006: val_accuracy improved from 0.93103 to 0.93966, saving model to E:\\Logs\\VGG16\\rene\\Rene2_20210921-134953_model_2.h5\n",
      "234/234 [==============================] - 389s 2s/step - loss: 0.8086 - accuracy: 0.9076 - val_loss: 0.1767 - val_accuracy: 0.9397\n",
      "Epoch 7/200\n",
      "233/234 [============================>.] - ETA: 1s - loss: 0.8467 - accuracy: 0.9168\n",
      "Epoch 00007: val_accuracy did not improve from 0.93966\n",
      "234/234 [==============================] - 388s 2s/step - loss: 0.8431 - accuracy: 0.9172 - val_loss: 0.1851 - val_accuracy: 0.9116\n",
      "Epoch 8/200\n",
      "233/234 [============================>.] - ETA: 1s - loss: 0.6473 - accuracy: 0.9238\n",
      "Epoch 00008: val_accuracy did not improve from 0.93966\n",
      "\n",
      "Epoch 00008: ReduceLROnPlateau reducing learning rate to 2.500000029215244e-09.\n",
      "234/234 [==============================] - 387s 2s/step - loss: 0.6445 - accuracy: 0.9241 - val_loss: 0.2192 - val_accuracy: 0.9052\n",
      "Epoch 9/200\n",
      "233/234 [============================>.] - ETA: 1s - loss: 0.6474 - accuracy: 0.9147\n",
      "Epoch 00009: val_accuracy did not improve from 0.93966\n",
      "234/234 [==============================] - 388s 2s/step - loss: 0.6452 - accuracy: 0.9145 - val_loss: 0.2092 - val_accuracy: 0.9289\n",
      "Epoch 10/200\n",
      "233/234 [============================>.] - ETA: 1s - loss: 0.7458 - accuracy: 0.9131\n",
      "Epoch 00010: val_accuracy did not improve from 0.93966\n",
      "\n",
      "Epoch 00010: ReduceLROnPlateau reducing learning rate to 1.2499999924031614e-10.\n",
      "234/234 [==============================] - 388s 2s/step - loss: 0.7426 - accuracy: 0.9135 - val_loss: 0.1583 - val_accuracy: 0.9310\n",
      "Epoch 11/200\n",
      "233/234 [============================>.] - ETA: 1s - loss: 0.9280 - accuracy: 0.9099\n",
      "Epoch 00011: val_accuracy did not improve from 0.93966\n",
      "234/234 [==============================] - 388s 2s/step - loss: 0.9240 - accuracy: 0.9103 - val_loss: 0.2415 - val_accuracy: 0.9159\n",
      "Epoch 12/200\n",
      "233/234 [============================>.] - ETA: 1s - loss: 0.7464 - accuracy: 0.9050\n",
      "Epoch 00012: val_accuracy did not improve from 0.93966\n",
      "\n",
      "Epoch 00012: ReduceLROnPlateau reducing learning rate to 6.2499998232379285e-12.\n",
      "234/234 [==============================] - 388s 2s/step - loss: 0.7432 - accuracy: 0.9054 - val_loss: 0.2373 - val_accuracy: 0.9116\n",
      "Epoch 13/200\n",
      "233/234 [============================>.] - ETA: 1s - loss: 0.7149 - accuracy: 0.9163\n",
      "Epoch 00013: val_accuracy did not improve from 0.93966\n",
      "234/234 [==============================] - 388s 2s/step - loss: 0.7182 - accuracy: 0.9161 - val_loss: 0.2431 - val_accuracy: 0.9073\n"
     ]
    }
   ],
   "source": [
    "history = model.fit(\n",
    "    train_data_gen,\n",
    "    steps_per_epoch=train_data_gen.samples // batch_size,\n",
    "    epochs=epochs,\n",
    "    callbacks = callbacks_list_2,\n",
    "    validation_data=val_data_gen,\n",
    "    validation_steps=val_data_gen.samples // batch_size\n",
    ")"
   ]
  },
  {
   "cell_type": "markdown",
   "metadata": {
    "colab_type": "text",
    "id": "bbdyqZdxVrYA"
   },
   "source": [
    "### Visualize the model"
   ]
  },
  {
   "cell_type": "markdown",
   "metadata": {
    "colab_type": "text",
    "id": "OgvF2nt7OtR7"
   },
   "source": [
    "Visualize the new model after training, you can see that there is significantly less overfitting than before. The accuracy should go up after training the model for more epochs."
   ]
  },
  {
   "cell_type": "code",
   "execution_count": 29,
   "metadata": {
    "colab": {},
    "colab_type": "code",
    "id": "7BTeMuNAVrYC"
   },
   "outputs": [
    {
     "data": {
      "image/png": "[encoded data removed]",
      "text/plain": [
       "<Figure size 1152x576 with 3 Axes>"
      ]
     },
     "metadata": {
      "needs_background": "light"
     },
     "output_type": "display_data"
    }
   ],
   "source": [
    "acc = history.history['accuracy']\n",
    "val_acc = history.history['val_accuracy']\n",
    "\n",
    "loss=history.history['loss']\n",
    "val_loss=history.history['val_loss']\n",
    "\n",
    "lr=history.history['lr']\n",
    "\n",
    "epochs_range = range(len(acc))\n",
    "\n",
    "plt.figure(figsize=(16, 8))\n",
    "plt.subplot(1, 3, 1)\n",
    "plt.plot(epochs_range, acc, label='Training Accuracy')\n",
    "plt.plot(epochs_range, val_acc, label='Validation Accuracy')\n",
    "plt.legend(loc='lower right')\n",
    "plt.title('Training and Validation Accuracy')\n",
    "\n",
    "plt.subplot(1, 3, 2)\n",
    "plt.plot(epochs_range, loss, label='Training Loss')\n",
    "plt.plot(epochs_range, val_loss, label='Validation Loss')\n",
    "plt.legend(loc='upper right')\n",
    "plt.title('Training and Validation Loss')\n",
    "\n",
    "plt.subplot(1, 3, 3)\n",
    "plt.plot(epochs_range, lr, label='Learning rate')\n",
    "plt.legend(loc='upper right')\n",
    "plt.title('Learning Rate')\n",
    "plt.show()"
   ]
  },
  {
   "cell_type": "code",
   "execution_count": 30,
   "metadata": {
    "colab": {},
    "colab_type": "code",
    "id": "K6oA77ADVrWp"
   },
   "outputs": [
    {
     "name": "stdout",
     "output_type": "stream",
     "text": [
      "Duration: 1:24:10.541384\n"
     ]
    }
   ],
   "source": [
    "end_time2 = datetime.now()\n",
    "print('Duration: {}'.format(end_time2 - start_time2))"
   ]
  }
 ],
 "metadata": {
  "accelerator": "GPU",
  "colab": {
   "collapsed_sections": [],
   "name": "classification.ipynb",
   "private_outputs": true,
   "provenance": [],
   "toc_visible": true
  },
  "kernelspec": {
   "display_name": "Python [conda env:DL] *",
   "language": "python",
   "name": "conda-env-DL-py"
  },
  "language_info": {
   "codemirror_mode": {
    "name": "ipython",
    "version": 3
   },
   "file_extension": ".py",
   "mimetype": "text/x-python",
   "name": "python",
   "nbconvert_exporter": "python",
   "pygments_lexer": "ipython3",
   "version": "3.7.11"
  }
 },
 "nbformat": 4,
 "nbformat_minor": 4
}
