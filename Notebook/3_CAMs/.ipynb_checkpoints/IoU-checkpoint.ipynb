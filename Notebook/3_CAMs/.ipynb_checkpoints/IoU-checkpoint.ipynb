{
 "cells": [
  {
   "cell_type": "code",
   "execution_count": null,
   "metadata": {},
   "outputs": [],
   "source": [
    "#imposto directory corrente\n",
    "import os\n",
    "os.chdir('E:\\GoogleDrive\\FinalTask_IOL')"
   ]
  },
  {
   "cell_type": "markdown",
   "metadata": {
    "tags": []
   },
   "source": [
    "# Notebook di servizio per l'utilizzo della classe \"<u>IoU</u> (Intersection over Union)\"\n",
    "\n",
    "La **_classe IoU_** è implementata nel modulo *iou.py*\n",
    "\n",
    "REFERENCE https://en.wikipedia.org/wiki/Jaccard_index\n",
    "\n",
    "L'obiettivo è di prendere un'immagine (caricarla in memoria) sovrascrivere i bounding box (sia quelli sepervisionati che quelli derivati dala heatmap) e calcolare la metrica Intersection over Union.\n",
    "Valori di Iou sopra il 50% vengono considerati buoni: la previsione tramite heatmap performa come la supervisione.\n",
    "Valori al di sotto del 50% sono da considerarsi scarsi!"
   ]
  },
  {
   "cell_type": "code",
   "execution_count": 2,
   "metadata": {},
   "outputs": [
    {
     "name": "stdout",
     "output_type": "stream",
     "text": [
      " gtBbox list = \n",
      "[[  1  73 329 241]]\n",
      " testBbox list = \n",
      "[[223 139 283 182]\n",
      " [444  34 448  42]]\n"
     ]
    }
   ],
   "source": [
    "# importo il modulo\n",
    "import src.heatmap.iou as IoU\n",
    "\n",
    "# creo la tupla con i tre parametri da passare al costruttore di classe\n",
    "tuple= ('./Notebook/3_CAMs/Bbox_txt/gtBbox.txt', './Notebook/3_CAMs/Bbox_txt/testBbox.txt', './Notebook/3_CAMs/IMG/imgOriginal.jpg')\n",
    "\n",
    "# genero oggetto \"box\"\n",
    "box = IoU.IoU(*tuple)\n",
    "\n",
    "\n",
    "#stampo gli attributi dell'oggetto \"box\"\n",
    "# contengono una lista di liste (al più) di paramentri dei bounding box\n",
    "print(f' gtBbox list = \\n{box.gtBboxList}')\n",
    "print(f' testBbox list = \\n{box.testBboxList}')"
   ]
  },
  {
   "cell_type": "code",
   "execution_count": 3,
   "metadata": {},
   "outputs": [
    {
     "name": "stdout",
     "output_type": "stream",
     "text": [
      "[0.048272513084297045, 0.0]\n",
      "[[223, 139, 283, 182]]\n"
     ]
    }
   ],
   "source": [
    "# parso tutte le liste degli attributi di oggetto di cui sopra e calcolo:\n",
    "# 1. IoU\n",
    "# 2. bounding box del'area sovrapposta\n",
    "box.set_listIoU()\n",
    "\n",
    "# stampo i risultati\n",
    "print(box.iou)\n",
    "print(box.intersections)"
   ]
  },
  {
   "cell_type": "code",
   "execution_count": 4,
   "metadata": {},
   "outputs": [
    {
     "name": "stdout",
     "output_type": "stream",
     "text": [
      " IoU immagine selezionata : 0.0483\n"
     ]
    }
   ],
   "source": [
    "# disegno i bounding box ground thruth e calcolati\n",
    "    \n",
    "box.plotBbox()"
   ]
  }
 ],
 "metadata": {
  "accelerator": "GPU",
  "colab": {
   "collapsed_sections": [],
   "name": "classificationVGG_COCO.ipynb",
   "provenance": [
    {
     "file_id": "15wBPqVwIPte3C-gD3Gulg0hfhTWGURsQ",
     "timestamp": 1592673900467
    }
   ],
   "toc_visible": true
  },
  "kernelspec": {
   "display_name": "Python [conda env:DL] *",
   "language": "python",
   "name": "conda-env-DL-py"
  },
  "language_info": {
   "codemirror_mode": {
    "name": "ipython",
    "version": 3
   },
   "file_extension": ".py",
   "mimetype": "text/x-python",
   "name": "python",
   "nbconvert_exporter": "python",
   "pygments_lexer": "ipython3",
   "version": "3.7.7"
  }
 },
 "nbformat": 4,
 "nbformat_minor": 4
}
